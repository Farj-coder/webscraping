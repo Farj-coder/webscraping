{
 "cells": [
  {
   "cell_type": "code",
   "execution_count": 5,
   "id": "1a5aa915",
   "metadata": {},
   "outputs": [
    {
     "name": "stderr",
     "output_type": "stream",
     "text": [
      "[*********************100%***********************]  1 of 1 completed"
     ]
    },
    {
     "name": "stdout",
     "output_type": "stream",
     "text": [
      "Price                       Adj Close       Close        High         Low  \\\n",
      "Ticker                           TSLA        TSLA        TSLA        TSLA   \n",
      "Date                                                                        \n",
      "2024-01-02 00:00:00+00:00  248.419998  248.419998  251.250000  244.410004   \n",
      "2024-01-03 00:00:00+00:00  238.449997  238.449997  245.679993  236.320007   \n",
      "2024-01-04 00:00:00+00:00  237.929993  237.929993  242.699997  237.729996   \n",
      "2024-01-05 00:00:00+00:00  237.490005  237.490005  240.119995  234.899994   \n",
      "2024-01-08 00:00:00+00:00  240.449997  240.449997  241.250000  235.300003   \n",
      "\n",
      "Price                            Open     Volume  \n",
      "Ticker                           TSLA       TSLA  \n",
      "Date                                              \n",
      "2024-01-02 00:00:00+00:00  250.080002  104654200  \n",
      "2024-01-03 00:00:00+00:00  244.979996  121082600  \n",
      "2024-01-04 00:00:00+00:00  239.250000  102629300  \n",
      "2024-01-05 00:00:00+00:00  236.860001   92379400  \n",
      "2024-01-08 00:00:00+00:00  236.139999   85166600  \n"
     ]
    },
    {
     "name": "stderr",
     "output_type": "stream",
     "text": [
      "\n"
     ]
    }
   ],
   "source": [
    "import yfinance as yf\n",
    "\n",
    "# Define the stock ticker symbol for Tesla\n",
    "ticker = 'TSLA'\n",
    "\n",
    "# Download Tesla stock data for the last 5 years\n",
    "tesla_stock_data = yf.download(ticker, start=\"2024-01-01\", end=\"2024-10-01\")\n",
    "\n",
    "# Display the first few rows of the stock data\n",
    "print(tesla_stock_data.head())"
   ]
  },
  {
   "cell_type": "code",
   "execution_count": 8,
   "id": "113db997",
   "metadata": {},
   "outputs": [
    {
     "name": "stdout",
     "output_type": "stream",
     "text": [
      "Defaulting to user installation because normal site-packages is not writeable\n",
      "Requirement already satisfied: requests in c:\\program files\\arcgis\\pro\\bin\\python\\envs\\arcgispro-py3\\lib\\site-packages (2.31.0)\n",
      "Requirement already satisfied: beautifulsoup4 in c:\\program files\\arcgis\\pro\\bin\\python\\envs\\arcgispro-py3\\lib\\site-packages (4.12.2)\n",
      "Requirement already satisfied: charset-normalizer<4,>=2 in c:\\program files\\arcgis\\pro\\bin\\python\\envs\\arcgispro-py3\\lib\\site-packages (from requests) (2.0.4)\n",
      "Requirement already satisfied: idna<4,>=2.5 in c:\\program files\\arcgis\\pro\\bin\\python\\envs\\arcgispro-py3\\lib\\site-packages (from requests) (3.4)\n",
      "Requirement already satisfied: urllib3<3,>=1.21.1 in c:\\program files\\arcgis\\pro\\bin\\python\\envs\\arcgispro-py3\\lib\\site-packages (from requests) (2.1.0)\n",
      "Requirement already satisfied: certifi>=2017.4.17 in c:\\program files\\arcgis\\pro\\bin\\python\\envs\\arcgispro-py3\\lib\\site-packages (from requests) (2024.2.2)\n",
      "Requirement already satisfied: soupsieve>1.2 in c:\\program files\\arcgis\\pro\\bin\\python\\envs\\arcgispro-py3\\lib\\site-packages (from beautifulsoup4) (2.5)\n",
      "Note: you may need to restart the kernel to use updated packages.\n"
     ]
    }
   ],
   "source": [
    "pip install requests beautifulsoup4"
   ]
  },
  {
   "cell_type": "code",
   "execution_count": 2,
   "id": "3194e931",
   "metadata": {},
   "outputs": [
    {
     "name": "stdout",
     "output_type": "stream",
     "text": [
      "   Date  Revenue\n",
      "0  2021  $53,823\n",
      "1  2020  $31,536\n",
      "2  2019  $24,578\n",
      "3  2018  $21,461\n",
      "4  2017  $11,759\n"
     ]
    }
   ],
   "source": [
    "import requests\n",
    "from bs4 import BeautifulSoup\n",
    "import pandas as pd\n",
    "\n",
    "# URL for Tesla's revenue data on MacroTrends\n",
    "url = \"https://cf-courses-data.s3.us.cloud-object-storage.appdomain.cloud/IBMDeveloperSkillsNetwork-PY0220EN-SkillsNetwork/labs/project/revenue.htm\"\n",
    "\n",
    "# Send a GET request to the website\n",
    "response = requests.get(url)\n",
    "\n",
    "# Parse the HTML content using BeautifulSoup\n",
    "soup = BeautifulSoup(response.text, 'html.parser')\n",
    "\n",
    "# Find the table containing the revenue data\n",
    "table = soup.find_all('table', {\"class\": \"historical_data_table table\"})\n",
    "\n",
    "# Extract the data rows from the table\n",
    "data_rows = table[0].find_all('tr')\n",
    "\n",
    "# List to store the revenue data\n",
    "revenue_data = []\n",
    "\n",
    "# Loop through the rows to extract date and revenue\n",
    "for row in data_rows[1:]:  # Skip the header row\n",
    "    columns = row.find_all('td')\n",
    "    if len(columns) > 1:\n",
    "        date = columns[0].text.strip()  # Extract the date\n",
    "        revenue = columns[1].text.strip()  # Extract the revenue\n",
    "        revenue_data.append([date, revenue])\n",
    "\n",
    "# Convert the list into a pandas DataFrame for easier analysis\n",
    "revenue_df = pd.DataFrame(revenue_data, columns=['Date', 'Revenue'])\n",
    "\n",
    "# Display the first few rows of the revenue data\n",
    "print(revenue_df.head())"
   ]
  },
  {
   "cell_type": "code",
   "execution_count": 5,
   "id": "f36c335e",
   "metadata": {},
   "outputs": [
    {
     "name": "stdout",
     "output_type": "stream",
     "text": [
      "Defaulting to user installation because normal site-packages is not writeable\n",
      "Collecting dash\n",
      "  Downloading dash-2.18.1-py3-none-any.whl.metadata (10 kB)\n",
      "Collecting plotly\n",
      "  Downloading plotly-5.24.1-py3-none-any.whl.metadata (7.3 kB)\n",
      "Requirement already satisfied: yfinance in c:\\users\\renaissance\\appdata\\roaming\\python\\python311\\site-packages (0.2.46)\n",
      "Requirement already satisfied: beautifulsoup4 in c:\\program files\\arcgis\\pro\\bin\\python\\envs\\arcgispro-py3\\lib\\site-packages (4.12.2)\n",
      "Requirement already satisfied: requests in c:\\program files\\arcgis\\pro\\bin\\python\\envs\\arcgispro-py3\\lib\\site-packages (2.31.0)\n",
      "Requirement already satisfied: pandas in c:\\program files\\arcgis\\pro\\bin\\python\\envs\\arcgispro-py3\\lib\\site-packages (2.0.2)\n",
      "Collecting Flask<3.1,>=1.0.4 (from dash)\n",
      "  Downloading flask-3.0.3-py3-none-any.whl.metadata (3.2 kB)\n",
      "Collecting Werkzeug<3.1 (from dash)\n",
      "  Downloading werkzeug-3.0.4-py3-none-any.whl.metadata (3.7 kB)\n",
      "Collecting dash-html-components==2.0.0 (from dash)\n",
      "  Downloading dash_html_components-2.0.0-py3-none-any.whl.metadata (3.8 kB)\n",
      "Collecting dash-core-components==2.0.0 (from dash)\n",
      "  Downloading dash_core_components-2.0.0-py3-none-any.whl.metadata (2.9 kB)\n",
      "Collecting dash-table==5.0.0 (from dash)\n",
      "  Downloading dash_table-5.0.0-py3-none-any.whl.metadata (2.4 kB)\n",
      "Requirement already satisfied: importlib-metadata in c:\\program files\\arcgis\\pro\\bin\\python\\envs\\arcgispro-py3\\lib\\site-packages (from dash) (7.0.1)\n",
      "Requirement already satisfied: typing-extensions>=4.1.1 in c:\\program files\\arcgis\\pro\\bin\\python\\envs\\arcgispro-py3\\lib\\site-packages (from dash) (4.9.0)\n",
      "Collecting retrying (from dash)\n",
      "  Downloading retrying-1.3.4-py3-none-any.whl.metadata (6.9 kB)\n",
      "Requirement already satisfied: nest-asyncio in c:\\program files\\arcgis\\pro\\bin\\python\\envs\\arcgispro-py3\\lib\\site-packages (from dash) (1.6.0)\n",
      "Requirement already satisfied: setuptools in c:\\program files\\arcgis\\pro\\bin\\python\\envs\\arcgispro-py3\\lib\\site-packages (from dash) (68.2.2)\n",
      "Collecting tenacity>=6.2.0 (from plotly)\n",
      "  Downloading tenacity-9.0.0-py3-none-any.whl.metadata (1.2 kB)\n",
      "Requirement already satisfied: packaging in c:\\program files\\arcgis\\pro\\bin\\python\\envs\\arcgispro-py3\\lib\\site-packages (from plotly) (23.2)\n",
      "Requirement already satisfied: numpy>=1.16.5 in c:\\program files\\arcgis\\pro\\bin\\python\\envs\\arcgispro-py3\\lib\\site-packages (from yfinance) (1.24.3)\n",
      "Requirement already satisfied: multitasking>=0.0.7 in c:\\users\\renaissance\\appdata\\roaming\\python\\python311\\site-packages (from yfinance) (0.0.11)\n",
      "Requirement already satisfied: lxml>=4.9.1 in c:\\program files\\arcgis\\pro\\bin\\python\\envs\\arcgispro-py3\\lib\\site-packages (from yfinance) (5.1.0)\n",
      "Requirement already satisfied: platformdirs>=2.0.0 in c:\\program files\\arcgis\\pro\\bin\\python\\envs\\arcgispro-py3\\lib\\site-packages (from yfinance) (3.10.0)\n",
      "Requirement already satisfied: pytz>=2022.5 in c:\\program files\\arcgis\\pro\\bin\\python\\envs\\arcgispro-py3\\lib\\site-packages\\pytz-2022.6-py3.11.egg (from yfinance) (2022.6)\n",
      "Requirement already satisfied: frozendict>=2.3.4 in c:\\users\\renaissance\\appdata\\roaming\\python\\python311\\site-packages (from yfinance) (2.4.6)\n",
      "Requirement already satisfied: peewee>=3.16.2 in c:\\users\\renaissance\\appdata\\roaming\\python\\python311\\site-packages (from yfinance) (3.17.7)\n",
      "Requirement already satisfied: html5lib>=1.1 in c:\\users\\renaissance\\appdata\\roaming\\python\\python311\\site-packages (from yfinance) (1.1)\n",
      "Requirement already satisfied: soupsieve>1.2 in c:\\program files\\arcgis\\pro\\bin\\python\\envs\\arcgispro-py3\\lib\\site-packages (from beautifulsoup4) (2.5)\n",
      "Requirement already satisfied: charset-normalizer<4,>=2 in c:\\program files\\arcgis\\pro\\bin\\python\\envs\\arcgispro-py3\\lib\\site-packages (from requests) (2.0.4)\n",
      "Requirement already satisfied: idna<4,>=2.5 in c:\\program files\\arcgis\\pro\\bin\\python\\envs\\arcgispro-py3\\lib\\site-packages (from requests) (3.4)\n",
      "Requirement already satisfied: urllib3<3,>=1.21.1 in c:\\program files\\arcgis\\pro\\bin\\python\\envs\\arcgispro-py3\\lib\\site-packages (from requests) (2.1.0)\n",
      "Requirement already satisfied: certifi>=2017.4.17 in c:\\program files\\arcgis\\pro\\bin\\python\\envs\\arcgispro-py3\\lib\\site-packages (from requests) (2024.2.2)\n",
      "Requirement already satisfied: python-dateutil>=2.8.2 in c:\\program files\\arcgis\\pro\\bin\\python\\envs\\arcgispro-py3\\lib\\site-packages (from pandas) (2.8.2)\n",
      "Requirement already satisfied: tzdata>=2022.1 in c:\\users\\renaissance\\appdata\\roaming\\python\\python311\\site-packages (from pandas) (2024.2)\n",
      "Requirement already satisfied: Jinja2>=3.1.2 in c:\\program files\\arcgis\\pro\\bin\\python\\envs\\arcgispro-py3\\lib\\site-packages (from Flask<3.1,>=1.0.4->dash) (3.1.3)\n",
      "Collecting itsdangerous>=2.1.2 (from Flask<3.1,>=1.0.4->dash)\n",
      "  Downloading itsdangerous-2.2.0-py3-none-any.whl.metadata (1.9 kB)\n",
      "Requirement already satisfied: click>=8.1.3 in c:\\program files\\arcgis\\pro\\bin\\python\\envs\\arcgispro-py3\\lib\\site-packages (from Flask<3.1,>=1.0.4->dash) (8.1.7)\n",
      "Requirement already satisfied: blinker>=1.6.2 in c:\\program files\\arcgis\\pro\\bin\\python\\envs\\arcgispro-py3\\lib\\site-packages (from Flask<3.1,>=1.0.4->dash) (1.6.2)\n",
      "Requirement already satisfied: six>=1.9 in c:\\program files\\arcgis\\pro\\bin\\python\\envs\\arcgispro-py3\\lib\\site-packages (from html5lib>=1.1->yfinance) (1.16.0)\n",
      "Requirement already satisfied: webencodings in c:\\program files\\arcgis\\pro\\bin\\python\\envs\\arcgispro-py3\\lib\\site-packages (from html5lib>=1.1->yfinance) (0.5.1)\n",
      "Requirement already satisfied: MarkupSafe>=2.1.1 in c:\\program files\\arcgis\\pro\\bin\\python\\envs\\arcgispro-py3\\lib\\site-packages (from Werkzeug<3.1->dash) (2.1.3)\n",
      "Requirement already satisfied: zipp>=0.5 in c:\\program files\\arcgis\\pro\\bin\\python\\envs\\arcgispro-py3\\lib\\site-packages (from importlib-metadata->dash) (3.17.0)\n",
      "Requirement already satisfied: colorama in c:\\program files\\arcgis\\pro\\bin\\python\\envs\\arcgispro-py3\\lib\\site-packages (from click>=8.1.3->Flask<3.1,>=1.0.4->dash) (0.4.6)\n",
      "Downloading dash-2.18.1-py3-none-any.whl (7.5 MB)\n",
      "   ---------------------------------------- 7.5/7.5 MB 427.3 kB/s eta 0:00:00\n",
      "Downloading dash_core_components-2.0.0-py3-none-any.whl (3.8 kB)\n",
      "Downloading dash_html_components-2.0.0-py3-none-any.whl (4.1 kB)\n",
      "Downloading dash_table-5.0.0-py3-none-any.whl (3.9 kB)\n",
      "Downloading plotly-5.24.1-py3-none-any.whl (19.1 MB)\n",
      "   ---------------------------------------- 19.1/19.1 MB 346.1 kB/s eta 0:00:00\n",
      "Downloading flask-3.0.3-py3-none-any.whl (101 kB)\n",
      "   -------------------------------------- 101.7/101.7 kB 450.7 kB/s eta 0:00:00\n",
      "Downloading tenacity-9.0.0-py3-none-any.whl (28 kB)\n",
      "Downloading werkzeug-3.0.4-py3-none-any.whl (227 kB)\n",
      "   -------------------------------------- 227.6/227.6 kB 375.3 kB/s eta 0:00:00\n",
      "Downloading retrying-1.3.4-py3-none-any.whl (11 kB)\n",
      "Downloading itsdangerous-2.2.0-py3-none-any.whl (16 kB)\n",
      "Installing collected packages: dash-table, dash-html-components, dash-core-components, Werkzeug, tenacity, retrying, itsdangerous, plotly, Flask, dash\n",
      "Successfully installed Flask-3.0.3 Werkzeug-3.0.4 dash-2.18.1 dash-core-components-2.0.0 dash-html-components-2.0.0 dash-table-5.0.0 itsdangerous-2.2.0 plotly-5.24.1 retrying-1.3.4 tenacity-9.0.0\n",
      "Note: you may need to restart the kernel to use updated packages.\n"
     ]
    },
    {
     "name": "stderr",
     "output_type": "stream",
     "text": [
      "  WARNING: The script flask.exe is installed in 'C:\\Users\\Renaissance\\AppData\\Roaming\\Python\\Python311\\Scripts' which is not on PATH.\n",
      "  Consider adding this directory to PATH or, if you prefer to suppress this warning, use --no-warn-script-location.\n",
      "  WARNING: The scripts dash-generate-components.exe, dash-update-components.exe and renderer.exe are installed in 'C:\\Users\\Renaissance\\AppData\\Roaming\\Python\\Python311\\Scripts' which is not on PATH.\n",
      "  Consider adding this directory to PATH or, if you prefer to suppress this warning, use --no-warn-script-location.\n"
     ]
    }
   ],
   "source": [
    "pip install dash plotly yfinance beautifulsoup4 requests pandas"
   ]
  },
  {
   "cell_type": "code",
   "execution_count": 9,
   "id": "b0d8a5dc",
   "metadata": {},
   "outputs": [
    {
     "ename": "NameError",
     "evalue": "name 'tesla_stock_data' is not defined",
     "output_type": "error",
     "traceback": [
      "\u001b[1;31m---------------------------------------------------------------------------\u001b[0m",
      "\u001b[1;31mNameError\u001b[0m                                 Traceback (most recent call last)",
      "\u001b[1;32m~\\AppData\\Local\\Temp\\ipykernel_6400\\809897570.py\u001b[0m in \u001b[0;36m<cell line: 0>\u001b[1;34m()\u001b[0m\n\u001b[0;32m     10\u001b[0m     data=[\n\u001b[0;32m     11\u001b[0m         go.Scatter(\n\u001b[1;32m---> 12\u001b[1;33m             \u001b[0mx\u001b[0m\u001b[1;33m=\u001b[0m\u001b[0mtesla_stock_data\u001b[0m\u001b[1;33m.\u001b[0m\u001b[0mindex\u001b[0m\u001b[1;33m,\u001b[0m\u001b[1;33m\u001b[0m\u001b[1;33m\u001b[0m\u001b[0m\n\u001b[0m\u001b[0;32m     13\u001b[0m             \u001b[0my\u001b[0m\u001b[1;33m=\u001b[0m\u001b[0mtesla_stock_data\u001b[0m\u001b[1;33m[\u001b[0m\u001b[1;34m'Close'\u001b[0m\u001b[1;33m]\u001b[0m\u001b[1;33m,\u001b[0m\u001b[1;33m\u001b[0m\u001b[1;33m\u001b[0m\u001b[0m\n\u001b[0;32m     14\u001b[0m             \u001b[0mmode\u001b[0m\u001b[1;33m=\u001b[0m\u001b[1;34m'lines'\u001b[0m\u001b[1;33m,\u001b[0m\u001b[1;33m\u001b[0m\u001b[1;33m\u001b[0m\u001b[0m\n",
      "\u001b[1;31mNameError\u001b[0m: name 'tesla_stock_data' is not defined"
     ]
    }
   ],
   "source": [
    "import dash\n",
    "from dash import dcc, html\n",
    "import plotly.graph_objs as go\n",
    "\n",
    "# Initialize the Dash app\n",
    "app = dash.Dash(__name__)\n",
    "\n",
    "# Create stock price line chart\n",
    "stock_price_fig = go.Figure(\n",
    "    data=[\n",
    "        go.Scatter(\n",
    "            x=tesla_stock_data.index,\n",
    "            y=tesla_stock_data['Close'],\n",
    "            mode='lines',\n",
    "            name='Tesla Stock Price'\n",
    "        )\n",
    "    ],\n",
    "    layout=go.Layout(\n",
    "        title='Tesla Stock Price (2024)',\n",
    "        xaxis_title='Date',\n",
    "        yaxis_title='Price (USD)'\n",
    "    )\n",
    ")\n",
    "\n",
    "# Create revenue bar chart\n",
    "revenue_fig = go.Figure(\n",
    "    data=[\n",
    "        go.Bar(\n",
    "            x=revenue_df['Date'],\n",
    "            y=revenue_df['Revenue'],\n",
    "            name='Tesla Revenue',\n",
    "            marker_color='orange'\n",
    "        )\n",
    "    ],\n",
    "    layout=go.Layout(\n",
    "        title='Tesla Revenue Over Time',\n",
    "        xaxis_title='Date',\n",
    "        yaxis_title='Revenue (in USD)'\n",
    "    )\n",
    ")\n",
    "\n",
    "# Define the layout of the dashboard\n",
    "app.layout = html.Div(children=[\n",
    "    html.H1(children='Tesla Stock and Revenue Dashboard'),\n",
    "\n",
    "    # Stock price chart\n",
    "    html.Div(children='Tesla Stock Price:'),\n",
    "    dcc.Graph(id='stock-price-graph', figure=stock_price_fig),\n",
    "\n",
    "    # Revenue chart\n",
    "    html.Div(children='Tesla Revenue:'),\n",
    "    dcc.Graph(id='revenue-graph', figure=revenue_fig),\n",
    "])\n",
    "\n",
    "# Run the Dash app\n",
    "if __name__ == '__main__':\n",
    "    app.run_server(debug=True)"
   ]
  },
  {
   "cell_type": "code",
   "execution_count": 6,
   "id": "a290f9d0",
   "metadata": {},
   "outputs": [
    {
     "name": "stderr",
     "output_type": "stream",
     "text": [
      "[*********************100%***********************]  1 of 1 completed"
     ]
    },
    {
     "name": "stdout",
     "output_type": "stream",
     "text": [
      "Price                      Adj Close      Close       High        Low  \\\n",
      "Ticker                           GME        GME        GME        GME   \n",
      "Date                                                                    \n",
      "2024-01-02 00:00:00+00:00  16.670000  16.670000  17.600000  16.580000   \n",
      "2024-01-03 00:00:00+00:00  16.690001  16.690001  16.830000  15.900000   \n",
      "2024-01-04 00:00:00+00:00  16.360001  16.360001  16.750000  16.309999   \n",
      "2024-01-05 00:00:00+00:00  15.960000  15.960000  16.520000  15.960000   \n",
      "2024-01-08 00:00:00+00:00  15.790000  15.790000  16.120001  15.700000   \n",
      "\n",
      "Price                           Open   Volume  \n",
      "Ticker                           GME      GME  \n",
      "Date                                           \n",
      "2024-01-02 00:00:00+00:00  17.250000  4428000  \n",
      "2024-01-03 00:00:00+00:00  16.299999  4193600  \n",
      "2024-01-04 00:00:00+00:00  16.510000  2671500  \n",
      "2024-01-05 00:00:00+00:00  16.160000  2615700  \n",
      "2024-01-08 00:00:00+00:00  15.780000  3031100  \n"
     ]
    },
    {
     "name": "stderr",
     "output_type": "stream",
     "text": [
      "\n"
     ]
    }
   ],
   "source": [
    "import yfinance as yf\n",
    "\n",
    "# Define the stock ticker symbol for GameStop\n",
    "ticker = 'GME'\n",
    "\n",
    "# Download GameStop stock data for the last 5 years\n",
    "gamestop_stock_data = yf.download(ticker, start=\"2024-01-01\", end=\"2024-10-01\")\n",
    "\n",
    "# Display the first few rows of the stock data\n",
    "print(gamestop_stock_data.head())"
   ]
  },
  {
   "cell_type": "code",
   "execution_count": 6,
   "id": "030217ac",
   "metadata": {},
   "outputs": [
    {
     "ename": "NameError",
     "evalue": "name 'tesla_stock_data' is not defined",
     "output_type": "error",
     "traceback": [
      "\u001b[1;31m---------------------------------------------------------------------------\u001b[0m",
      "\u001b[1;31mNameError\u001b[0m                                 Traceback (most recent call last)",
      "\u001b[1;32m~\\AppData\\Local\\Temp\\ipykernel_6400\\1926649460.py\u001b[0m in \u001b[0;36m<cell line: 0>\u001b[1;34m()\u001b[0m\n\u001b[0;32m     10\u001b[0m     data=[\n\u001b[0;32m     11\u001b[0m         go.Scatter(\n\u001b[1;32m---> 12\u001b[1;33m             \u001b[0mx\u001b[0m\u001b[1;33m=\u001b[0m\u001b[0mtesla_stock_data\u001b[0m\u001b[1;33m.\u001b[0m\u001b[0mindex\u001b[0m\u001b[1;33m,\u001b[0m\u001b[1;33m\u001b[0m\u001b[1;33m\u001b[0m\u001b[0m\n\u001b[0m\u001b[0;32m     13\u001b[0m             \u001b[0my\u001b[0m\u001b[1;33m=\u001b[0m\u001b[0mtesla_stock_data\u001b[0m\u001b[1;33m[\u001b[0m\u001b[1;34m'Close'\u001b[0m\u001b[1;33m]\u001b[0m\u001b[1;33m,\u001b[0m\u001b[1;33m\u001b[0m\u001b[1;33m\u001b[0m\u001b[0m\n\u001b[0;32m     14\u001b[0m             \u001b[0mmode\u001b[0m\u001b[1;33m=\u001b[0m\u001b[1;34m'lines'\u001b[0m\u001b[1;33m,\u001b[0m\u001b[1;33m\u001b[0m\u001b[1;33m\u001b[0m\u001b[0m\n",
      "\u001b[1;31mNameError\u001b[0m: name 'tesla_stock_data' is not defined"
     ]
    }
   ],
   "source": [
    "import dash\n",
    "from dash import dcc, html\n",
    "import plotly.graph_objs as go\n",
    "\n",
    "# Initialize the Dash app\n",
    "app = dash.Dash(__name__)\n",
    "\n",
    "# Create stock price line chart\n",
    "stock_price_fig = go.Figure(\n",
    "    data=[\n",
    "        go.Scatter(\n",
    "            x=tesla_stock_data.index,\n",
    "            y=tesla_stock_data['Close'],\n",
    "            mode='lines',\n",
    "            name='Tesla Stock Price'\n",
    "        )\n",
    "    ],\n",
    "    layout=go.Layout(\n",
    "        title='Tesla Stock Price (2019-2024)',\n",
    "        xaxis_title='Date',\n",
    "        yaxis_title='Price (USD)'\n",
    "    )\n",
    ")\n",
    "\n",
    "# Create revenue bar chart\n",
    "revenue_fig = go.Figure(\n",
    "    data=[\n",
    "        go.Bar(\n",
    "            x=revenue_df['Date'],\n",
    "            y=revenue_df['Revenue'],\n",
    "            name='Tesla Revenue',\n",
    "            marker_color='orange'\n",
    "        )\n",
    "    ],\n",
    "    layout=go.Layout(\n",
    "        title='Tesla Revenue Over Time',\n",
    "        xaxis_title='Date',\n",
    "        yaxis_title='Revenue (in USD)'\n",
    "    )\n",
    ")\n",
    "\n",
    "# Define the layout of the dashboard\n",
    "app.layout = html.Div(children=[\n",
    "    html.H1(children='Tesla Stock and Revenue Dashboard'),\n",
    "\n",
    "    # Stock price chart\n",
    "    html.Div(children='Tesla Stock Price:'),\n",
    "    dcc.Graph(id='stock-price-graph', figure=stock_price_fig),\n",
    "\n",
    "    # Revenue chart\n",
    "    html.Div(children='Tesla Revenue:'),\n",
    "    dcc.Graph(id='revenue-graph', figure=revenue_fig),\n",
    "])\n",
    "\n",
    "# Run the Dash app\n",
    "if __name__ == '__main__':\n",
    "    app.run_server(debug=True)"
   ]
  },
  {
   "cell_type": "code",
   "execution_count": 3,
   "id": "bf28da35",
   "metadata": {},
   "outputs": [
    {
     "name": "stdout",
     "output_type": "stream",
     "text": [
      "   Date Revenue\n",
      "0  2020  $6,466\n",
      "1  2019  $8,285\n",
      "2  2018  $8,547\n",
      "3  2017  $7,965\n",
      "4  2016  $9,364\n"
     ]
    }
   ],
   "source": [
    "import requests\n",
    "from bs4 import BeautifulSoup\n",
    "import pandas as pd\n",
    "\n",
    "# URL for GameStop's revenue data on MacroTrends\n",
    "url = \"https://cf-courses-data.s3.us.cloud-object-storage.appdomain.cloud/IBMDeveloperSkillsNetwork-PY0220EN-SkillsNetwork/labs/project/stock.html\"\n",
    "\n",
    "# Send a GET request to the website\n",
    "response = requests.get(url)\n",
    "\n",
    "# Parse the HTML content using BeautifulSoup\n",
    "soup = BeautifulSoup(response.text, 'html.parser')\n",
    "\n",
    "# Find the table containing the revenue data\n",
    "table = soup.find_all('table', {\"class\": \"historical_data_table table\"})\n",
    "\n",
    "# Extract the data rows from the table\n",
    "data_rows = table[0].find_all('tr')\n",
    "\n",
    "# List to store the revenue data\n",
    "revenue_data = []\n",
    "\n",
    "# Loop through the rows to extract date and revenue\n",
    "for row in data_rows[1:]:  # Skip the header row\n",
    "    columns = row.find_all('td')\n",
    "    if len(columns) > 1:\n",
    "        date = columns[0].text.strip()  # Extract the date\n",
    "        revenue = columns[1].text.strip()  # Extract the revenue\n",
    "        revenue_data.append([date, revenue])\n",
    "\n",
    "# Convert the list into a pandas DataFrame for easier analysis\n",
    "revenue_df = pd.DataFrame(revenue_data, columns=['Date', 'Revenue'])\n",
    "\n",
    "# Display the first few rows of the revenue data\n",
    "print(revenue_df.head())"
   ]
  },
  {
   "cell_type": "code",
   "execution_count": 10,
   "id": "f39932d6",
   "metadata": {},
   "outputs": [
    {
     "ename": "NameError",
     "evalue": "name 'gamestop_stock_data' is not defined",
     "output_type": "error",
     "traceback": [
      "\u001b[1;31m---------------------------------------------------------------------------\u001b[0m",
      "\u001b[1;31mNameError\u001b[0m                                 Traceback (most recent call last)",
      "\u001b[1;32m~\\AppData\\Local\\Temp\\ipykernel_6400\\3477759824.py\u001b[0m in \u001b[0;36m<cell line: 0>\u001b[1;34m()\u001b[0m\n\u001b[0;32m     10\u001b[0m     data=[\n\u001b[0;32m     11\u001b[0m         go.Scatter(\n\u001b[1;32m---> 12\u001b[1;33m             \u001b[0mx\u001b[0m\u001b[1;33m=\u001b[0m\u001b[0mgamestop_stock_data\u001b[0m\u001b[1;33m.\u001b[0m\u001b[0mindex\u001b[0m\u001b[1;33m,\u001b[0m\u001b[1;33m\u001b[0m\u001b[1;33m\u001b[0m\u001b[0m\n\u001b[0m\u001b[0;32m     13\u001b[0m             \u001b[0my\u001b[0m\u001b[1;33m=\u001b[0m\u001b[0mgamestop_stock_data\u001b[0m\u001b[1;33m[\u001b[0m\u001b[1;34m'Close'\u001b[0m\u001b[1;33m]\u001b[0m\u001b[1;33m,\u001b[0m\u001b[1;33m\u001b[0m\u001b[1;33m\u001b[0m\u001b[0m\n\u001b[0;32m     14\u001b[0m             \u001b[0mmode\u001b[0m\u001b[1;33m=\u001b[0m\u001b[1;34m'lines'\u001b[0m\u001b[1;33m,\u001b[0m\u001b[1;33m\u001b[0m\u001b[1;33m\u001b[0m\u001b[0m\n",
      "\u001b[1;31mNameError\u001b[0m: name 'gamestop_stock_data' is not defined"
     ]
    }
   ],
   "source": [
    "import dash\n",
    "from dash import dcc, html\n",
    "import plotly.graph_objs as go\n",
    "\n",
    "# Initialize the Dash app\n",
    "app = dash.Dash(__name__)\n",
    "\n",
    "# Step 1: Create the stock price line chart\n",
    "stock_price_fig = go.Figure(\n",
    "    data=[\n",
    "        go.Scatter(\n",
    "            x=gamestop_stock_data.index,\n",
    "            y=gamestop_stock_data['Close'],\n",
    "            mode='lines',\n",
    "            name='GameStop Stock Price'\n",
    "        )\n",
    "    ],\n",
    "    layout=go.Layout(\n",
    "        title='GameStop Stock Price (2019-2024)',\n",
    "        xaxis_title='Date',\n",
    "        yaxis_title='Price (USD)'\n",
    "    )\n",
    ")\n",
    "\n",
    "# Step 2: Create the revenue bar chart\n",
    "revenue_fig = go.Figure(\n",
    "    data=[\n",
    "        go.Bar(\n",
    "            x=revenue_df['Date'],\n",
    "            y=revenue_df['Revenue'],\n",
    "            name='GameStop Revenue',\n",
    "            marker_color='blue'\n",
    "        )\n",
    "    ],\n",
    "    layout=go.Layout(\n",
    "        title='GameStop Revenue Over Time',\n",
    "        xaxis_title='Date',\n",
    "        yaxis_title='Revenue (in USD)'\n",
    "    )\n",
    ")\n",
    "\n",
    "# Step 3: Define the layout of the dashboard\n",
    "app.layout = html.Div(children=[\n",
    "    html.H1(children='GameStop Stock and Revenue Dashboard'),\n",
    "\n",
    "    # Stock price chart\n",
    "    html.Div(children='GameStop Stock Price:'),\n",
    "    dcc.Graph(id='stock-price-graph', figure=stock_price_fig),\n",
    "\n",
    "    # Revenue chart\n",
    "    html.Div(children='GameStop Revenue:'),\n",
    "    dcc.Graph(id='revenue-graph', figure=revenue_fig),\n",
    "])\n",
    "\n",
    "# Step 4: Run the Dash app\n",
    "if __name__ == '__main__':\n",
    "    app.run_server(debug=True)"
   ]
  },
  {
   "cell_type": "code",
   "execution_count": null,
   "id": "bb80ecab",
   "metadata": {},
   "outputs": [],
   "source": []
  }
 ],
 "metadata": {
  "kernelspec": {
   "display_name": "Python 3 (ipykernel)",
   "language": "python",
   "name": "python3"
  },
  "language_info": {
   "codemirror_mode": {
    "name": "ipython",
    "version": 3
   },
   "file_extension": ".py",
   "mimetype": "text/x-python",
   "name": "python",
   "nbconvert_exporter": "python",
   "pygments_lexer": "ipython3",
   "version": "3.11.8"
  }
 },
 "nbformat": 4,
 "nbformat_minor": 5
}
